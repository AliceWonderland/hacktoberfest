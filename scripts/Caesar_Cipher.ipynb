{
 "cells": [
  {
   "cell_type": "code",
   "execution_count": 16,
   "metadata": {},
   "outputs": [],
   "source": [
    "def caesar_encrypt(plain_text,key):\n",
    "    encrypted_text = \"\"\n",
    "    for char in plain_text:\n",
    "        if char.isalpha():\n",
    "            if char.isupper():\n",
    "                encrypted_text += chr((ord(char) - 65 +key) % 26 + 65)\n",
    "            else:\n",
    "                encrypted_text += chr((ord(char) - 97 +key) % 26 + 97)\n",
    "        else:\n",
    "            encrypted_text += char\n",
    "    return encrypted_text\n",
    "\n",
    "\n",
    "\n"
   ]
  },
  {
   "cell_type": "code",
   "execution_count": 17,
   "metadata": {},
   "outputs": [],
   "source": [
    "def caesar_decrypt(cipher_text,key):\n",
    "    decrypted_text = \"\"\n",
    "    for char in cipher_text:\n",
    "        if char.isalpha():\n",
    "            if char.isupper():\n",
    "                decrypted_text += chr((ord(char) - 65 -key) % 26 + 65)\n",
    "            else:\n",
    "                decrypted_text += chr((ord(char) - 97 -key) % 26 + 97)\n",
    "        else:\n",
    "            decrypted_text += char\n",
    "    return decrypted_text\n"
   ]
  },
  {
   "cell_type": "code",
   "execution_count": 18,
   "metadata": {},
   "outputs": [],
   "source": [
    "def cryptanalysis_brute_force(cipher_text):\n",
    "    for key in range(0,26):\n",
    "        decrypted_text = \"\"\n",
    "        for char in cipher_text:\n",
    "            if char.isalpha():\n",
    "                if char.isupper():\n",
    "                    decrypted_text += chr((ord(char) - 65 -key) % 26 + 65)\n",
    "                else:\n",
    "                    decrypted_text += chr((ord(char) - 97 -key) % 26 + 97)\n",
    "            else:\n",
    "                decrypted_text += char\n",
    "        print(\"Possible Decryption after cryptanalysis can be:\")\n",
    "        print(decrypted_text)\n",
    "        \n"
   ]
  },
  {
   "cell_type": "code",
   "execution_count": 20,
   "metadata": {},
   "outputs": [
    {
     "name": "stdout",
     "output_type": "stream",
     "text": [
      "Encrypted text: Khoor Zruog!\n",
      "Decrypted text: Hello World!\n"
     ]
    }
   ],
   "source": [
    "\n",
    "key=int(input(\"Enter the key of your choice:\"))\n",
    "key= key%26\n",
    "\n",
    "text=input(\"Enter Text to test:\")\n",
    "\n",
    "encrypted = caesar_encrypt(text,key)\n",
    "print(\"Encrypted text:\", encrypted)\n",
    "\n",
    "decrypted = caesar_decrypt(encrypted,key)\n",
    "print(\"Decrypted text:\", decrypted)\n",
    "\n"
   ]
  },
  {
   "cell_type": "code",
   "execution_count": 21,
   "metadata": {},
   "outputs": [
    {
     "name": "stdout",
     "output_type": "stream",
     "text": [
      "Possible Decryption after cryptanalysis can be:\n",
      "Khoor Zruog!\n",
      "Possible Decryption after cryptanalysis can be:\n",
      "Jgnnq Yqtnf!\n",
      "Possible Decryption after cryptanalysis can be:\n",
      "Ifmmp Xpsme!\n",
      "Possible Decryption after cryptanalysis can be:\n",
      "Hello World!\n",
      "Possible Decryption after cryptanalysis can be:\n",
      "Gdkkn Vnqkc!\n",
      "Possible Decryption after cryptanalysis can be:\n",
      "Fcjjm Umpjb!\n",
      "Possible Decryption after cryptanalysis can be:\n",
      "Ebiil Tloia!\n",
      "Possible Decryption after cryptanalysis can be:\n",
      "Dahhk Sknhz!\n",
      "Possible Decryption after cryptanalysis can be:\n",
      "Czggj Rjmgy!\n",
      "Possible Decryption after cryptanalysis can be:\n",
      "Byffi Qilfx!\n",
      "Possible Decryption after cryptanalysis can be:\n",
      "Axeeh Phkew!\n",
      "Possible Decryption after cryptanalysis can be:\n",
      "Zwddg Ogjdv!\n",
      "Possible Decryption after cryptanalysis can be:\n",
      "Yvccf Nficu!\n",
      "Possible Decryption after cryptanalysis can be:\n",
      "Xubbe Mehbt!\n",
      "Possible Decryption after cryptanalysis can be:\n",
      "Wtaad Ldgas!\n",
      "Possible Decryption after cryptanalysis can be:\n",
      "Vszzc Kcfzr!\n",
      "Possible Decryption after cryptanalysis can be:\n",
      "Uryyb Jbeyq!\n",
      "Possible Decryption after cryptanalysis can be:\n",
      "Tqxxa Iadxp!\n",
      "Possible Decryption after cryptanalysis can be:\n",
      "Spwwz Hzcwo!\n",
      "Possible Decryption after cryptanalysis can be:\n",
      "Rovvy Gybvn!\n",
      "Possible Decryption after cryptanalysis can be:\n",
      "Qnuux Fxaum!\n",
      "Possible Decryption after cryptanalysis can be:\n",
      "Pmttw Ewztl!\n",
      "Possible Decryption after cryptanalysis can be:\n",
      "Olssv Dvysk!\n",
      "Possible Decryption after cryptanalysis can be:\n",
      "Nkrru Cuxrj!\n",
      "Possible Decryption after cryptanalysis can be:\n",
      "Mjqqt Btwqi!\n",
      "Possible Decryption after cryptanalysis can be:\n",
      "Lipps Asvph!\n"
     ]
    }
   ],
   "source": [
    "\n",
    "decrypt_brute_force = cryptanalysis_brute_force(encrypted)"
   ]
  },
  {
   "cell_type": "code",
   "execution_count": null,
   "metadata": {},
   "outputs": [],
   "source": [
    "def create_document():\n",
    "    f= open(\"document.txt\",'a')\n",
    "    l=['e','t','a','o','i']"
   ]
  },
  {
   "cell_type": "markdown",
   "metadata": {},
   "source": []
  }
 ],
 "metadata": {
  "kernelspec": {
   "display_name": "Python 3",
   "language": "python",
   "name": "python3"
  },
  "language_info": {
   "codemirror_mode": {
    "name": "ipython",
    "version": 3
   },
   "file_extension": ".py",
   "mimetype": "text/x-python",
   "name": "python",
   "nbconvert_exporter": "python",
   "pygments_lexer": "ipython3",
   "version": "3.9.6"
  },
  "orig_nbformat": 4
 },
 "nbformat": 4,
 "nbformat_minor": 2
}
